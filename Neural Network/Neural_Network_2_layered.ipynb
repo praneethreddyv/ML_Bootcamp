{
  "nbformat": 4,
  "nbformat_minor": 0,
  "metadata": {
    "colab": {
      "name": "Neural Network 2 layered Final.ipynb",
      "provenance": [],
      "collapsed_sections": []
    },
    "kernelspec": {
      "name": "python3",
      "display_name": "Python 3"
    },
    "language_info": {
      "name": "python"
    }
  },
  "cells": [
    {
      "cell_type": "code",
      "metadata": {
        "id": "VhZUZmme_YH5"
      },
      "source": [
        "import numpy as np\n",
        "import pandas as pd\n",
        "import matplotlib.pyplot as plt"
      ],
      "execution_count": 1,
      "outputs": []
    },
    {
      "cell_type": "code",
      "metadata": {
        "id": "9ZF2KdwzUdd_"
      },
      "source": [
        "# Importing, splitting and assigning train data\n",
        "df = pd.read_csv('sample_data/mnist_train_small.csv',header = None)\n",
        "X_train = np.array(df.iloc[:,1:])\n",
        "y_train = np.array(df.iloc[:,0:1])\n",
        "# Importing, splitting and assigning test data\n",
        "df1 = pd.read_csv('sample_data/mnist_test.csv',header = None)\n",
        "X_test = np.array(df.iloc[:,1:])\n",
        "y_test = np.array(df.iloc[:,0:1])"
      ],
      "execution_count": 2,
      "outputs": []
    },
    {
      "cell_type": "code",
      "metadata": {
        "id": "MZrtM_B_6eyT"
      },
      "source": [
        "from google.colab import files\n",
        "files.upload()"
      ],
      "execution_count": null,
      "outputs": []
    },
    {
      "cell_type": "markdown",
      "metadata": {
        "id": "DqYO6XUzV0bF"
      },
      "source": [
        "# Neural Network (Two Layered)\n",
        "\n"
      ]
    },
    {
      "cell_type": "code",
      "metadata": {
        "id": "qn3NTYnN6blc"
      },
      "source": [
        "from neural_network_2layered import NeuralNetwork"
      ],
      "execution_count": 4,
      "outputs": []
    },
    {
      "cell_type": "code",
      "metadata": {
        "id": "fTulZS4fUoDu"
      },
      "source": [
        "NN = NeuralNetwork()\n",
        "# Takes X, y(Training data) and updates parameters.\n",
        "NN.fit(X_train,y_train,10)"
      ],
      "execution_count": 5,
      "outputs": []
    },
    {
      "cell_type": "code",
      "metadata": {
        "colab": {
          "base_uri": "https://localhost:8080/",
          "height": 295
        },
        "id": "ytBBRpbDYp95",
        "outputId": "306e6ea2-050d-43ec-be22-c7b3bf356e57"
      },
      "source": [
        "NN.plot()    # Plotting (Cost Function vs Iterations)"
      ],
      "execution_count": 6,
      "outputs": [
        {
          "output_type": "display_data",
          "data": {
            "image/png": "[encoded data removed]",
            "text/plain": [
              "<Figure size 432x288 with 1 Axes>"
            ]
          },
          "metadata": {
            "tags": [],
            "needs_background": "light"
          }
        }
      ]
    },
    {
      "cell_type": "code",
      "metadata": {
        "colab": {
          "base_uri": "https://localhost:8080/"
        },
        "id": "gqDYn1MR_U1A",
        "outputId": "8d1fb1cb-99d8-463b-96ae-2a4fbed1a0e8"
      },
      "source": [
        "y_pred = NN.predict(X_train)\n",
        "print(\"Accuracy of trained model on train data\", NN.accuracy(y_train,y_pred))\n",
        "y_pred = NN.predict(X_test)\n",
        "print(\"Accuracy of trained model on test data\", NN.accuracy(y_test,y_pred))"
      ],
      "execution_count": 7,
      "outputs": [
        {
          "output_type": "stream",
          "text": [
            "Accuracy of trained model on train data 95.135\n",
            "Accuracy of trained model on test data 95.22500000000001\n"
          ],
          "name": "stdout"
        }
      ]
    },
    {
      "cell_type": "markdown",
      "metadata": {
        "id": "iR5g4ABrWAj5"
      },
      "source": [
        "# Neural Network (Two Layered with mini-batch gradient descent)"
      ]
    },
    {
      "cell_type": "code",
      "metadata": {
        "id": "_q4_8lGouKdu"
      },
      "source": [
        "from neural_network_2layered_minibatch import NeuralNetwork"
      ],
      "execution_count": 3,
      "outputs": []
    },
    {
      "cell_type": "code",
      "metadata": {
        "id": "jQkie-lNU4Yd"
      },
      "source": [
        "NN = NeuralNetwork()\n",
        "# Takes X, y(Training data) and updates parameters.\n",
        "NN.fit(X_train,y_train,10)"
      ],
      "execution_count": 4,
      "outputs": []
    },
    {
      "cell_type": "code",
      "metadata": {
        "colab": {
          "base_uri": "https://localhost:8080/",
          "height": 295
        },
        "id": "rTkKoDauU4wB",
        "outputId": "179dd276-7f8e-42ca-81c9-170f30aa47af"
      },
      "source": [
        "NN.plot()    # Plotting (Cost Function vs Iterations)"
      ],
      "execution_count": 5,
      "outputs": [
        {
          "output_type": "display_data",
          "data": {
            "image/png": "[encoded data removed]",
            "text/plain": [
              "<Figure size 432x288 with 1 Axes>"
            ]
          },
          "metadata": {
            "tags": [],
            "needs_background": "light"
          }
        }
      ]
    },
    {
      "cell_type": "code",
      "metadata": {
        "colab": {
          "base_uri": "https://localhost:8080/"
        },
        "id": "duvdFoL2U9le",
        "outputId": "59435c53-f280-4f22-fdd9-f67ca84481be"
      },
      "source": [
        "y_pred = NN.predict(X_train)\n",
        "print(\"Accuracy of trained model on train data:\", NN.accuracy(y_train,y_pred))\n",
        "y_pred = NN.predict(X_test)\n",
        "print(\"Accuracy of trained model on test data:\", NN.accuracy(y_test,y_pred))"
      ],
      "execution_count": 6,
      "outputs": [
        {
          "output_type": "stream",
          "text": [
            "Accuracy of trained model on train data: 93.34\n",
            "Accuracy of trained model on test data: 93.5\n"
          ],
          "name": "stdout"
        }
      ]
    },
    {
      "cell_type": "markdown",
      "metadata": {
        "id": "c1jL0zEqXv2v"
      },
      "source": [
        "# Neural Network (Scikit learn)"
      ]
    },
    {
      "cell_type": "code",
      "metadata": {
        "colab": {
          "base_uri": "https://localhost:8080/"
        },
        "id": "jvy-7EGSXvGm",
        "outputId": "ce8bf86f-6695-4c2f-aa0f-386252e2c7dc"
      },
      "source": [
        "from sklearn.neural_network import MLPClassifier\n",
        "from sklearn import preprocessing\n",
        "sk = MLPClassifier(hidden_layer_sizes=(40), activation='logistic')  \n",
        "X_train_ = preprocessing.scale(X_train)\n",
        "y_train_ = y_train.ravel()\n",
        "X_test_ = preprocessing.scale(X_test)\n",
        "y_test_ = y_test.ravel()\n",
        "sk.fit(X_train_,y_train_)"
      ],
      "execution_count": 7,
      "outputs": [
        {
          "output_type": "execute_result",
          "data": {
            "text/plain": [
              "MLPClassifier(activation='logistic', alpha=0.0001, batch_size='auto',\n",
              "              beta_1=0.9, beta_2=0.999, early_stopping=False, epsilon=1e-08,\n",
              "              hidden_layer_sizes=40, learning_rate='constant',\n",
              "              learning_rate_init=0.001, max_fun=15000, max_iter=200,\n",
              "              momentum=0.9, n_iter_no_change=10, nesterovs_momentum=True,\n",
              "              power_t=0.5, random_state=None, shuffle=True, solver='adam',\n",
              "              tol=0.0001, validation_fraction=0.1, verbose=False,\n",
              "              warm_start=False)"
            ]
          },
          "metadata": {
            "tags": []
          },
          "execution_count": 7
        }
      ]
    },
    {
      "cell_type": "code",
      "metadata": {
        "colab": {
          "base_uri": "https://localhost:8080/"
        },
        "id": "coLE7iuhmGGo",
        "outputId": "143b7e87-96a4-4dad-b724-4a56c27ed877"
      },
      "source": [
        "accuracy = sk.score(X_train_,y_train_)*100\n",
        "print(\"Accuracy of trained model on train data:\",accuracy)\n",
        "accuracy = sk.score(X_test_,y_train_)*100\n",
        "print(\"Accuracy of trained model on test data:\",accuracy)"
      ],
      "execution_count": 8,
      "outputs": [
        {
          "output_type": "stream",
          "text": [
            "Accuracy of trained model on train data: 99.99\n",
            "Accuracy of trained model on test data: 99.99\n"
          ],
          "name": "stdout"
        }
      ]
    },
    {
      "cell_type": "code",
      "metadata": {
        "id": "4K6DxxvmwjEp"
      },
      "source": [
        ""
      ],
      "execution_count": null,
      "outputs": []
    }
  ]
}
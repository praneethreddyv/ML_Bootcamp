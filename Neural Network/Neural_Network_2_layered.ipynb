{
  "nbformat": 4,
  "nbformat_minor": 0,
  "metadata": {
    "colab": {
      "name": "Neural Network 2 layered Final.ipynb",
      "provenance": [],
      "collapsed_sections": []
    },
    "kernelspec": {
      "name": "python3",
      "display_name": "Python 3"
    },
    "language_info": {
      "name": "python"
    }
  },
  "cells": [
    {
      "cell_type": "code",
      "metadata": {
        "id": "VhZUZmme_YH5"
      },
      "source": [
        "import numpy as np\n",
        "import pandas as pd\n",
        "import matplotlib.pyplot as plt"
      ],
      "execution_count": 11,
      "outputs": []
    },
    {
      "cell_type": "code",
      "metadata": {
        "id": "9ZF2KdwzUdd_"
      },
      "source": [
        "# Importing, splitting and assigning train data\n",
        "df = pd.read_csv('sample_data/mnist_train_small.csv',header = None)\n",
        "X_train = np.array(df.iloc[:,1:])\n",
        "y_train = np.array(df.iloc[:,0:1])\n",
        "# Importing, splitting and assigning test data\n",
        "df1 = pd.read_csv('sample_data/mnist_test.csv',header = None)\n",
        "X_test = np.array(df.iloc[:,1:])\n",
        "y_test = np.array(df.iloc[:,0:1])"
      ],
      "execution_count": 12,
      "outputs": []
    },
    {
      "cell_type": "code",
      "metadata": {
        "id": "MZrtM_B_6eyT"
      },
      "source": [
        "from google.colab import files\n",
        "files.upload()"
      ],
      "execution_count": null,
      "outputs": []
    },
    {
      "cell_type": "markdown",
      "metadata": {
        "id": "DqYO6XUzV0bF"
      },
      "source": [
        "# Neural Network (Two Layered)\n",
        "\n"
      ]
    },
    {
      "cell_type": "code",
      "metadata": {
        "id": "qn3NTYnN6blc"
      },
      "source": [
<<<<<<< HEAD
        "from neural_network_2layered import NeuralNetwork"
=======
        "class NeuralNetwork:\n",
        "\n",
        "  def __init__(self, alpha=0.005, lam=0.01, num_iters=50 ,s1=16):\n",
        "    self.alpha = alpha\n",
        "    self.lam = lam\n",
        "    self.num_iters = num_iters\n",
        "    self.s1 = s1\n",
        "\n",
        "  def sigmoid(self,z):\n",
        "    return 1/(1 + np.exp(-1*z))\n",
        "\n",
        "  def scale(self, X):\n",
        "    m, n = X.shape\n",
        "    for i in range(n):\n",
        "      X[:,i] = (X[:,i] - np.mean(X[:,i])) / (np.std(X[:,i]) + 0.0000001)\n",
        "    return X\n",
        "\n",
        "  def add_bias(self,b):\n",
        "    return np.hstack((np.ones((len(b),1)),b))\n",
        "\n",
        "  def fit(self, X, y, n_cls):\n",
        "    \n",
        "    # Feature Scaling\n",
        "    X = self.scale(X)\n",
        "    X = self.add_bias(X)    # Adding bias colunmn\n",
        "    m, n = X.shape\n",
        "\n",
        "    # Coverting y matrix for One vs all classification\n",
        "    self.n_cls = n_cls\n",
        "    y_cls = np.zeros((m,self.n_cls))\n",
        "    for i in range(m):\n",
        "      y_cls[i,y[i]] = 1  #20000X10\n",
        "\n",
        "    # Initializing parameter vectors theta, delta\n",
        "    self.theta1 = np.random.rand(self.s1,n) #16X785\n",
        "    self.theta2 = np.random.rand(10,self.s1+1) #10X17\n",
        "    delta1 = np.zeros_like(self.theta1) #16X785\n",
        "    delta2 = np.zeros_like(self.theta2) #10X17\n",
        "\n",
        "    # Initializing some useful variables\n",
        "    # 'J.history' and 'iters' keeps track of cost with each iteration.\n",
        "    \n",
        "    self.J_hist = []\n",
        "    self.iters = []\n",
        "\n",
        "    for i in range(self.num_iters):\n",
        "      # Forward Propogation\n",
        "      a1 = X\n",
        "      z2 = a1@self.theta1.T #20000X785*785X16 = 20000X16\n",
        "      a2 = self.sigmoid(z2) #20000X16\n",
        "      a2 = self.add_bias(a2) #20000X17\n",
        "      z3 = a2@self.theta2.T #20000X17*17X10 = 20000X10\n",
        "      a3 = self.sigmoid(z3)\n",
        "\n",
        "      # Back Propogation\n",
        "      # Finding err(Error), delta\n",
        "      err3 = (a3 - y_cls)  #20000*10\n",
        "      err2 = (err3@self.theta2)*a2*(1-a2) #20000X10*10X17 .*20000X17  = 20000X17\n",
        "      delta2 += err3.T@a2  #10X20000*20000X17 = 10X17\n",
        "      delta1 += err2[:,1:].T@a1  #16X20000*20000X785 = 16X785\n",
        "      theta1_temp = self.theta1\n",
        "      theta1_temp[:,0] = 0\n",
        "      theta2_temp = self.theta2\n",
        "      theta2_temp[:,0] = 0\n",
        "      D2 = (1/m)*(delta2 + self.lam*theta2_temp)\n",
        "      D1 = (1/m)*(delta1 + self.lam*theta1_temp)\n",
        "\n",
        "      self.theta1 -= self.alpha*(D1)\n",
        "      self.theta2 -= self.alpha*(D2)\n",
        "\n",
        "      cost = (-1/m)*np.sum(y_cls*np.log(a3) + (1-y_cls)*np.log(1-a3)) + (self.lam/(2*m))*(np.sum(self.theta1[:,1:]**2) + np.sum(self.theta2[:,1:]**2))\n",
        "\n",
        "      self.J_hist.append(cost)\n",
        "      self.iters.append(i)\n",
        "\n",
        "  def plot(self):\n",
        "    plt.plot(self.iters,self.J_hist)\n",
        "    plt.xlabel(\"Number Of Iterations\")\n",
        "    plt.ylabel(\"Cost Function\")\n",
        "    plt.title(\"Cost Function vs Iteration\")"
>>>>>>> e348b42d33d6224040f61d4413eca8699c7fba00
      ],
      "execution_count": 16,
      "outputs": []
    },
    {
      "cell_type": "code",
      "metadata": {
        "id": "fTulZS4fUoDu"
      },
      "source": [
        "NN = NeuralNetwork()\n",
        "# Takes X, y(Training data) and updates parameters.\n",
        "NN.fit(X_train,y_train,10)"
      ],
      "execution_count": 17,
      "outputs": []
    },
    {
      "cell_type": "code",
      "metadata": {
        "colab": {
          "base_uri": "https://localhost:8080/",
          "height": 295
        },
        "id": "ytBBRpbDYp95",
        "outputId": "99ffd4d3-fb9c-4fd2-b2c3-8d8735f52de4"
      },
      "source": [
        "NN.plot()    # Plotting (Cost Function vs Iterations)"
      ],
      "execution_count": null,
      "outputs": [
        {
          "output_type": "display_data",
          "data": {
            "image/png": "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\n",
            "text/plain": [
              "<Figure size 432x288 with 1 Axes>"
            ]
          },
          "metadata": {
            "tags": [],
            "needs_background": "light"
          }
        }
      ]
    },
    {
      "cell_type": "code",
      "metadata": {
        "colab": {
          "base_uri": "https://localhost:8080/"
        },
        "id": "gqDYn1MR_U1A",
        "outputId": "5e8b0684-7ebe-4aca-c45e-78444ebb4b88"
      },
      "source": [
        "y_pred = NN.predict(X_train)\n",
        "print(\"Accuracy of trained model on train data\", NN.accuracy(y_train,y_pred))\n",
        "y_pred = NN.predict(X_test)\n",
        "print(\"Accuracy of trained model on test data\", NN.accuracy(y_test,y_pred))"
      ],
      "execution_count": 18,
      "outputs": [
        {
          "output_type": "stream",
          "text": [
            "Accuracy of trained model on train data 95.14\n",
            "Accuracy of trained model on test data 95.30999999999999\n"
          ],
          "name": "stdout"
        }
      ]
    },
    {
      "cell_type": "markdown",
      "metadata": {
        "id": "iR5g4ABrWAj5"
      },
      "source": [
        "# Neural Network (Two Layered with mini-batch gradient descent)"
      ]
    },
    {
      "cell_type": "code",
      "metadata": {
        "id": "_q4_8lGouKdu"
      },
      "source": [
        "from neural_network_2layered_minibatch import NeuralNetwork"
      ],
      "execution_count": 19,
      "outputs": []
    },
    {
      "cell_type": "code",
      "metadata": {
        "id": "jQkie-lNU4Yd"
      },
      "source": [
        "NN = NeuralNetwork()\n",
        "# Takes X, y(Training data) and updates parameters.\n",
        "NN.fit(X_train,y_train,10)"
      ],
      "execution_count": 24,
      "outputs": []
    },
    {
      "cell_type": "code",
      "metadata": {
        "colab": {
          "base_uri": "https://localhost:8080/",
          "height": 295
        },
        "id": "rTkKoDauU4wB",
        "outputId": "077dba4b-8933-43bd-f476-6d99b88ce928"
      },
      "source": [
        "NN.plot()    # Plotting (Cost Function vs Iterations)"
      ],
      "execution_count": 25,
      "outputs": [
        {
          "output_type": "display_data",
          "data": {
            "image/png": "iVBORw0KGgoAAAANSUhEUgAAAYsAAAEWCAYAAACXGLsWAAAABHNCSVQICAgIfAhkiAAAAAlwSFlzAAALEgAACxIB0t1+/AAAADh0RVh0U29mdHdhcmUAbWF0cGxvdGxpYiB2ZXJzaW9uMy4yLjIsIGh0dHA6Ly9tYXRwbG90bGliLm9yZy+WH4yJAAAgAElEQVR4nO3deZwdVZn/8c+315C1sxlDFsISUVQ2WwS3QfGHgAjMqCwyAorD6LivA+M67sKoiDsCAyiKiCgZXBABxY1gWGRf2rAkISEhIfvS6e7n90edTurevt33Jp3b93byfb9e99VVp05VPbcI9dxTp+qUIgIzM7OBNNQ6ADMzq39OFmZmVpaThZmZleVkYWZmZTlZmJlZWU4WZmZWlpOF2SBI+q6kT9Q6jnol6RWSHqp1HDZ4Tha2Q0h6s6R5ktZKWizp15JePshtPibpNQMsP1xST9pn7+f/BrPPMvGcIelP+bKIeEdEfLZa+xwMSbMkhaSmNH+ppM9VeZ8haZ/e+Yj4Y0TsW8192tBoqnUANvxJ+iBwNvAO4HqgEzgKOB740wCr7ghPRsT0Ku/DAElNEdFV6zisRiLCH3+2+wOMA9YCbxqgTitwPvBk+pwPtKZlk4DrgJXACuCPZC3eHwA9wIa0/Y+W2O7hwMJKyoHHgNek6U8DVwGXA2uA+4D2XN0ZwDXAMmA58E3gecBGoDvFszLVvRT4XG7dfwM60neZA+yeWxZkCfWR9H2/BahE/Lun7z0hV3YQ8DTQDOwD/AFYlcp+0s9xn5X22QScBWwmS+Rrgf/L7etn6bs+Crw3t/6ngauBHwKrgbcDhwB/TfEvTsemJdW/Je1vXdrHScX/LdJx/H1a/z7guNyyS9Mx+WX67zIX2LvW/8b9yT6+DGWDdRgwAvj5AHU+BhwKHAgcQHbC+Xha9iFgITAZmAL8FxAR8RbgCeD1ETE6Is7dwXEfB1wJtJGd1L8JIKmRLHk9TnaynQZcGREPkJ3o/5riaSveoKRXA18ETgSmpm1cWVTtWODFwP6p3muLtxMRT5KdkN+QK34zcHVEbAY+C/wWGA9MB75R7stGxIXAFcC5Kf7XS2oA/g/4e/qeRwDvl5SP6XiyhNGW1u8GPkCW5A9L6/xH2scr0zoHpH38pOj4NKf9/RZ4FvAe4ApJ+ctUJwP/nb5bB/D5ct/NhoaThQ3WRODpGPjyxKnAZyJiaUQsIzsZvCUt20x2Yt0jIjZHdo17WwYs213SytznxArX+1NE/CoiuslaMQek8kPIfm1/JCLWRcTGiKj0UtqpwCURcUdEbALOAQ6TNCtX50sRsTIingBuJkugpfwIOAVAkshOoj9KyzYDe5C1WrYlvmIvBiZHxGciojMi5gPfT/vq9deI+EVE9ETEhoi4PSJujYiuiHgM+B7wTxXu71BgNNkx6IyIm8gS8ym5Oj+PiNvSv6cr6P/42BBzsrDBWg5M6u1E7cfuZL+yez2eygDOI/sF+VtJ8yWdvY37fzIi2nKfqypcb0luej0wIn2HGcDjZZJffwq+Z0SsJTs+0wbY7+h+tvUzskQzFXgl2SW5P6ZlHwUE3CbpPklv245YISWcfLIla9lNydVZkF9B0nMkXSdpiaTVwBfIWhmV2B1YEBE9ubLH2b7jY0PMycIG66/AJuCEAeo8SXZi6jUzlRERayLiQxGxF9mloQ9KOiLV294hkdcBI3tn0qWlyRWuuwCY2U/yKxdPwfeUNIqs5bWown1v3VHEM2SXa04iuwR1ZW+LKyKWRMS/RcTuwL8D387fgTTQZovmFwCPFiXbMRFxzADrfAd4EJgdEWPJkosq/FpPAjPS5a9eM9mO42NDz8nCBiUiVgGfBL4l6QRJIyU1SzpaUm8/w4+Bj0uaLGlSqv9DAEnHStonXWpZRXZNvPeX51PAXtsR1sNkLYXXpevkHyfrZK/EbWQdt1+SNErSCEkvy8UzXVJLP+v+GHirpAMltZL96p6bLtdsjx8BpwFvZOslKCS9SVLvHWDPkJ3Qe/qu3kfx8bwNWCPpPyXtJqlR0gskvXiAbYwh6+xeK+m5wDvL7CNvLllr4aPp38jhwOvp269jdcjJwgYtIr4CfJDspLyM7Bfru4FfpCqfA+YBdwP3AHekMoDZwO/I7p75K/DtiLg5LfsiWZJZKenD2xDPKrJO14vIfrWuI+tEr2TdbrIT2D5kHewLyX7dA9xEdgfPEklPl1j3d8AnyC4hLQb2pvD6/7aaQ3Z8lkTE33PlLwbmSlqb6rwv9TeUczGwXzqev0jf9ViyfoFHye6suojsDrf+fJispbOGrH/jJ0XLPw1cVqr/KCI6yY7t0Wlf3wZOi4gHK4jdakzb1pdoZma7IrcszMysLCcLMzMry8nCzMzKcrIwM7OydsqBBCdNmhSzZs2qdRhmZsPK7bff/nRElHwmaadMFrNmzWLevHm1DsPMbFiR9Hh/y3wZyszMynKyMDOzspwszMysLCcLMzMry8nCzMzKcrIwM7OynCzMzKwsJ4uc9Z1dfPW3D3HnE8/UOhQzs7riZJGzobObC27q4J5Fq2odiplZXXGyKMGv+DAzK+RkkZO92dPMzIo5WZiZWVlOFiX4VbNmZoWcLHJ8EcrMrDQnixLcrjAzK+RkkeP+bTOz0pwsSnCXhZlZISeLHLnXwsysJCeLEtywMDMr5GSR54aFmVlJVUsWki6RtFTSvSWWfUhSSJqU5iXpAkkdku6WdHCu7umSHkmf06sVr5mZ9a+aLYtLgaOKCyXNAI4EnsgVHw3MTp+zgO+kuhOATwEvAQ4BPiVpfBVjBvxQnplZsaoli4i4BVhRYtHXgI9S2DVwPHB5ZG4F2iRNBV4L3BARKyLiGeAGSiSgHcW3zpqZlTakfRaSjgcWRcTfixZNAxbk5hemsv7KS237LEnzJM1btmzZDozazMyGLFlIGgn8F/DJamw/Ii6MiPaIaJ88efJ2bcMNCzOz0oayZbE3sCfwd0mPAdOBOyQ9G1gEzMjVnZ7K+iuvKndZmJkVGrJkERH3RMSzImJWRMwiu6R0cEQsAeYAp6W7og4FVkXEYuB64EhJ41PH9pGprCr8Pgszs9Kqeevsj4G/AvtKWijpzAGq/wqYD3QA3wf+AyAiVgCfBf6WPp9JZVUVfizPzKxAU7U2HBGnlFk+KzcdwLv6qXcJcMkODa4fbleYmZXmJ7jNzKwsJ4sS3MFtZlbIySLH/dtmZqU5WZTghoWZWSEnixy/z8LMrDQnixLcZ2FmVsjJIsd9FmZmpTlZmJlZWU4WJfgJbjOzQk4WZmZWlpNFCe7gNjMr5GSR4w5uM7PSnCzMzKwsJ4scP5RnZlaak0UJ4U4LM7MCThY57rMwMyvNycLMzMpysijBV6HMzApV8x3cl0haKuneXNl5kh6UdLekn0tqyy07R1KHpIckvTZXflQq65B0drXiBb9W1cysP9VsWVwKHFVUdgPwgojYH3gYOAdA0n7AycDz0zrfltQoqRH4FnA0sB9wSqpbVW5YmJkVqlqyiIhbgBVFZb+NiK40eyswPU0fD1wZEZsi4lGgAzgkfToiYn5EdAJXprpVIfdwm5mVVMs+i7cBv07T04AFuWULU1l/5X1IOkvSPEnzli1bNqjA3GdhZlaoJslC0seALuCKHbXNiLgwItojon3y5MnbF9eOCsbMbCfTNNQ7lHQGcCxwRGx9+m0RMCNXbXoqY4DyqvEQ5WZmhYa0ZSHpKOCjwHERsT63aA5wsqRWSXsCs4HbgL8BsyXtKamFrBN8TvXiq9aWzcyGt6q1LCT9GDgcmCRpIfApsrufWoEbUmfyrRHxjoi4T9JVwP1kl6feFRHdaTvvBq4HGoFLIuK+asVsZmalVS1ZRMQpJYovHqD+54HPlyj/FfCrHRhaWe7gNjMr5Ce4c3zrrJlZaU4WJbhhYWZWyMnCzMzKcrIoxZ0WZmYFnCyKuNvCzKwvJwszMyvLyaIEX4QyMyvkZFHEV6HMzPpysijB/dtmZoWcLIr4wTwzs76cLErwqLNmZoWcLIq4XWFm1peTRQnuszAzK+RkUcRdFmZmfTlZmJlZWU4WJfgqlJlZISeLInIXt5lZH04WJbiD28ysUNWShaRLJC2VdG+ubIKkGyQ9kv6OT+WSdIGkDkl3Szo4t87pqf4jkk6vVrxbA6/6HszMhp1qtiwuBY4qKjsbuDEiZgM3pnmAo4HZ6XMW8B3IkgvwKeAlwCHAp3oTTDX5oTwzs0Jlk4Wkl6VWwMOS5kt6VNL8cutFxC3AiqLi44HL0vRlwAm58ssjcyvQJmkq8FrghohYERHPADfQNwHtUG5YmJn11VRBnYuBDwC3A92D3N+UiFicppcAU9L0NGBBrt7CVNZfeR+SziJrlTBz5szBRemGhZlZgUqSxaqI+PWO3nFEhKQddlqOiAuBCwHa29t9ujcz24Eq6bO4WdJ5kg6TdHDvZzv391S6vET6uzSVLwJm5OpNT2X9lVeNn+A2M+urkpbFS9Lf9lxZAK/ejv3NAU4HvpT+Xpsrf7ekK9P+VkXEYknXA1/IdWofCZyzHfvdJm6WmJkVKpssIuJV27NhST8GDgcmSVpIdlfTl4CrJJ0JPA6cmKr/CjgG6ADWA29N+14h6bPA31K9z0REcaf5DuWH8szM+iqbLCSNIzvRvzIV/YHspL1qoPUi4pR+Fh1Rom4A7+pnO5cAl5SLc0cKP5VnZlagkj6LS4A1ZK2AE4HVwP9WM6hacp+FmVlflfRZ7B0Rb8jN/7eku6oVUD1ww8LMrFAlLYsNkl7eOyPpZcCG6oVUW25YmJn1VUnL4p3AZanvQmRPZZ9RzaDMzKy+VHI31F3AAZLGpvnVVY+qxnwVysysUL/JQtK/RsQPJX2wqByAiPhqlWOrCbmH28ysj4FaFqPS3zEllu3UP77dwW1mVqjfZBER30uTv4uIP+eXpU7unZLbFWZmfVVyN9Q3Kizbafh9FmZmhQbqszgMeCkwuajfYizQWO3AasZNCzOzPgbqs2gBRqc6+X6L1cAbqxlUrbnPwsys0EB9Fn8A/iDp0oh4fAhjqik3LMzM+qqkz+IiSW29M5LGp6HDzcxsF1FJspgUESt7Z9K7sJ9VvZDMzKzeVJIseiRteam1pD3YiZ+z8EN5ZmZ9VTI21MeAP0n6A9kl/VcAZ1U1qhrz+yzMzApVMjbUb9I7tw9NRe+PiKerG1btuGFhZtZXJS0LgFay0WabgP0kERG3VC+s2nK7wsysUCWvVf0ycBJwH9CTigPY7mQh6QPA29N27iF75/ZU4EpgInA78JaI6JTUClwOvAhYDpwUEY9t777LxlatDZuZDWOVtCxOAPaNiE07YoeSpgHvBfaLiA2SrgJOBo4BvhYRV0r6LnAm8J3095mI2EfSyUBv8jIzsyFSyd1Q84HmHbzfJmA3SU3ASGAx8Grg6rT8MrIkBXB8mictP0JVvmXJ/dtmZoUqaVmsB+6SdCOwpXUREe/dnh1GxCJJ/wM8QfZ61t+SXXZaGRFdqdpCYFqangYsSOt2SVpFdqmqoJNd0lmku7RmzpzJ9vKts2ZmfVWSLOakzw4haTxZa2FPYCXwU+CowW43Ii4ELgRob28fVNvAo86amRWq5NbZy8rV2UavAR6NiGUAkq4BXga0SWpKrYvpwKJUfxEwA1iYLluNI+vorgq3K8zM+irbZyHpUUnziz+D2OcTwKGSRqa+hyOA+4Gb2Tqa7enAtWl6TponLb8pqvzUnPsszMwKVXIZqj03PQJ4EzBhe3cYEXMlXQ3cAXQBd5JdPvolcKWkz6Wyi9MqFwM/kNRB9qzHydu770q4y8LMrK9KLkMVX/I5X9LtwCe3d6cR8SngU0XF84FDStTdSJaghowbFmZmhSp5KO/g3GwDWUuj0ie/hyE3LczMilVy0v9KbroLeBQ4sTrhmJlZPRroHdyHRsStEfGqoQyoHriD28ys0EB3Q327d0LSX4cglrrgDm4zs74GShb50+aIagdSX9y0MDPLG6jPoiE9bd2Qm96SQCJiRbWDqwU3LMzM+hooWYwjG7Op9/x5R25ZAHtVK6hac5+FmVmhfpNFRMwawjjqhvsszMz6qmSI8l2OWxZmZoWcLIrIvRZmZn04WZiZWVmVjDr7g0rKdiZ+n4WZWaFKWhbPz89IagReVJ1was8d3GZmffWbLCSdI2kNsL+k1emzBljK1ndN7JTcwW1mVqjfZBERX4yIMcB5ETE2fcZExMSIOGcIYxxSbliYmfVVyWWo6ySNApD0r5K+KmmPKsdVU25YmJkVqiRZfAdYL+kA4EPAP4DLqxpVDcmdFmZmfVSSLLrSO6+PB74ZEd8CxlQ3LDMzqyeVJIs1ks4B3gL8UlID0DyYnUpqk3S1pAclPSDpMEkTJN0g6ZH0d3yqK0kXSOqQdHfRm/uqwh3cZmaFKkkWJwGbgLdFxBJgOnDeIPf7deA3EfFc4ADgAeBs4MaImA3cmOYBjgZmp89ZZJfFzMxsCJVNFilBXAGMk3QssDEitrvPQtI44JXAxWn7nRGxkuwy12Wp2mXACWn6eODyyNwKtEmaur37r4QfyjMzK1TJE9wnArcBbyJ79/ZcSW8cxD73BJYB/yvpTkkXpbutpkTE4lRnCTAlTU8DFuTWX5jKiuM8S9I8SfOWLVu23cG5f9vMrK9KLkN9DHhxRJweEacBhwCfGMQ+m4CDge9ExEHAOrZecgIgdahv08/7iLgwItojon3y5MmDCG9b92xmtvOrJFk0RMTS3PzyCtfrz0JgYUTMTfNXkyWPp3ovL6W/vftcBMzIrT89lVWFWxZmZn1VctL/jaTrJZ0h6Qzgl8Cvt3eHqQ9kgaR9U9ERwP3AHOD0VHY6W4cUmQOclu6KOhRYlbtcVRVuWJiZFRrotaoARMRHJP0L8PJUdGFE/HyQ+30PcIWkFmA+8FayxHWVpDOBx8n6RwB+BRwDdADrU92q8fsszMz66jdZSNqHrNP5zxFxDXBNKn+5pL0j4h/bu9OIuAtoL7HoiBJ1A3jX9u7LzMwGb6DLUOcDq0uUr0rLdlrhp/LMzAoMlCymRMQ9xYWpbFbVIqoxd3CbmfU1ULJoG2DZbjs6kHridoWZWaGBksU8Sf9WXCjp7cDt1QupttywMDPra6C7od4P/FzSqWxNDu1AC/DP1Q6sltxlYWZWqN9kERFPAS+V9CrgBan4lxFx05BEViN+n4WZWV+VPGdxM3DzEMRSN9ywMDMrNJhhO3ZKI5ob2dDZXeswzMzqipNFkbbdmlm1obPWYZiZ1RUniyJtI5tZuX5zrcMwM6srThZF2kY2s3KDk4WZWZ6TRZFxu7Wwav1mD/lhZpbjZFGkbWQznd09bNzcU+tQzMzqhpNFkbbdmgFYvm5TjSMxM6sfThZFdm/Lhr16cuXGGkdiZlY/nCyKTB+fJYsFK9bXOBIzs/rhZFFkWkoWC5/ZUONIzMzqh5NFkdamRqaMbWXBM25ZmJn1qlmykNQo6U5J16X5PSXNldQh6Sfp/dxIak3zHWn5rGrHNmP8SF+GMjPLqWXL4n3AA7n5LwNfi4h9gGeAM1P5mcAzqfxrqV5V7TFxFI8+va7auzEzGzZqkiwkTQdeB1yU5gW8Grg6VbkMOCFNH5/mScuPUJXHEd/32aNZumYTK9d7jCgzM6hdy+J84KNA75NvE4GVEdGV5hcC09L0NGABQFq+KtUvIOksSfMkzVu2bNmggps9ZQwADz+1dlDbMTPbWQx5spB0LLA0Inboq1kj4sKIaI+I9smTJw9qW/umZPHQU2t2RGhmZsNe2ZcfVcHLgOMkHQOMAMYCXwfaJDWl1sN0YFGqvwiYASyU1ASMA5ZXM8Cp40YwprWJh5c4WZiZQQ1aFhFxTkRMj4hZwMnATRFxKtnb+N6Yqp0OXJum56R50vKbosqj/EniOc8ew4NLVldzN2Zmw0Y9PWfxn8AHJXWQ9UlcnMovBiam8g8CZw9FMC+cNo57F62mq9sDCpqZ1eIy1BYR8Xvg92l6PnBIiTobgTcNaWDAQTPbuPQvj/HQU2t4/u7jhnr3ZmZ1pZ5aFnXlwBltAPx9waoaR2JmVntOFv2YOWEkE0a1cOcTz9Q6FDOzmnOy6Ick2vcYz1/+sdxvzTOzXZ6TxQBeMXsSi1Zu4LHlHifKzHZtThYDePns7OG+Pz0yuCfCzcyGOyeLAcyaOJJpbbtxyyNP1zoUM7OacrIYgCQO33cyf+54mg2d3bUOx8ysZpwsynjdC6eyvrObmx5cWutQzMxqxsmijJfsNZFJo1u57u4nax2KmVnNOFmU0dggjnnhs7npwaWsWr+51uGYmdWEk0UFTmyfwaauHq6+Y2GtQzEzqwkniwq8YNo4Dp7Zxg9vfZyeHj+gZ2a7HieLCp122CwefXodv3vgqVqHYmY25JwsKnTs/lOZNXEkX/vdI25dmNkux8miQk2NDbzvNbN5YPFqfn3vklqHY2Y2pJwstsFxB0zjOVNG84VfPcD6zq5ah2NmNmScLLZBY4P43AkvZNHKDXz9d4/UOhwzsyHjZLGNDtlzAie1z+D7f5zP3PnLax2OmdmQGPJkIWmGpJsl3S/pPknvS+UTJN0g6ZH0d3wql6QLJHVIulvSwUMdc7GPH/s89pg4ivf8+E6eXrup1uGYmVVdLVoWXcCHImI/4FDgXZL2A84GboyI2cCNaR7gaGB2+pwFfGfoQy40ZkQz33rzwazasJl3/OB2DzJoZju9IU8WEbE4Iu5I02uAB4BpwPHAZanaZcAJafp44PLI3Aq0SZo6xGH3sd/uY/nqiQdy+xPP8O4f3cHm7p5ah2RmVjU17bOQNAs4CJgLTImIxWnREmBKmp4GLMittjCVFW/rLEnzJM1btmxoXlb0uv2n8pnjns+NDy7lrMvnuYVhZjutmiULSaOBnwHvj4jV+WWRvfR6m558i4gLI6I9ItonT568AyMd2FsOm8Xn//kF/P7hZZx60a0sXb1xyPZtZjZUapIsJDWTJYorIuKaVPxU7+Wl9Lf3BRKLgBm51aensrpx6kv24NtvPpgHFq/hmAv+xJ87/GY9M9u51OJuKAEXAw9ExFdzi+YAp6fp04Frc+WnpbuiDgVW5S5X1Y2jXziVa9/9MtpGNvOvF8/lE7+4l1UbPKS5me0clF3xGcIdSi8H/gjcA/T2Cv8XWb/FVcBM4HHgxIhYkZLLN4GjgPXAWyNi3kD7aG9vj3nzBqxSNes7uzjv+oe47C+PMWFUKx8+8jm84UXTaW70Iy1mVt8k3R4R7SWXDXWyGAq1TBa97lm4ik9cey93LVjJzAkjefer9uG4A3dnRHNjTeMyM+uPk0WNRAQ3PbiUr97wMPc9uZoJo1o4sX0Gbz5kJjMnjqx1eGZmBZwsaiwi+HPHcn5w62PccP9T9AQcMKON1+8/laNfOJVpbbvVOkQzMyeLerJ41QauvetJrrv7Se5dlN0xvO+UMbxi9iRe+ZzJHLLnBF+qMrOacLKoU48+vY7f3reEWx5Zxt8efYbO7h4keO6zx3LQzDYOmtHGi/YYz16TR9c6VDPbBThZ1LkFK9bzinNv7nf5N998EMfuv/sQRmRmu6KBkkXTUAdjfU0e08rL9pnInztKD3n+8V/cyzV3LGLmhJHMnDCSPSZmf2dMGOlLVmY2JJws6sCI5kauePuhW+bXbeqiY+laHnpqDR1L1/L48nU8sWIDc+cvZ13R+FNtI5t59tgRTBk7Ivs7bgRTx2XTzxrbyqTRrUwY1eLnPMxsUJws6tCo1iYOmNHGATPaCsojghXrOnlixXqeWLGehc9sYMmqjSxetZGnVm/k/sWreXrtJkpdWRw7oomJo1uZOKqFCaNamDg6/R3VysTRLbSNbKFtt2baRjYzbrdmxoxoprFBQ/SNzazeOVkMI5KyE/7oVg6aOb5knc3dPSxbs4klqzfy1KqNLF/XyYp1nSxfu2nL9OPL13PHEyvLvrjp8H0ns//0NsaOaGJ0axNjRjQzOk2PHdG0ZXpkS5MTi9lOzsliJ9Pc2MDubbuxewXPbjy1eiOvPPdmNnWVfhfHLQ8v4/cPVTbce2tTAyNbGhnZ0sRuLY2Mamlkt9z8yOZGRrY0sltLE61NDfy542lGj2hiwqgWxo9sYXxq0bTPmsDzpo7dpu9sZtXnZLELmzJ2BA997ugB6/T0BOs6u1izsYu1m7pYs3FzbrqLtRu7WNfZxYbObtanz4bNXazb1M2Gzm6WrtmYlXV2s25TFxs2d7O5e+A78HZrbmTMiCZamxsY0dRIa3MDrU2NtDY1pE8jI3rLmisra2lqoLFBbNzczejWpi1lvZ/Jo1tpaXK/jll/nCxsQA0NYsyIrA9jR3l67SbOueYelqzayIp1nTyzvpP1qeN+z0mjeOXsSWzq6kmfbjZt7mFj+rtmY1dW1tVTUL6xq7tkX8222GPiSJobG2hubKClUVumm5uK5hsbaC5YLlqKlrU0Fc3ntlUwn99WP8uysTTNasvJwobcpNGtfP+0krdyb7eIoKsn2NTVw8bNvcmke8t8Z1cPNz24lO/dMr/k+qNaGjloRhubu4PO7h429366gg0bNm+d7w46u3oK59N0tR5Zai5KVC2NSomlb2JrStONDaK5UTQ2NNDcIJp6pxuVlqU6DVl5U6NoahBNjbk6DVmdbFlRnQalZQ2pbGudnp7Yso/emJoaxIjmRt/qPYw5WdhOQdKWk+ro1tL/rF+y10TOOeZ5VYuhuyfY3N2TJY+uLJFsmU+JpyARdffQ2RWF891BV7nE1NU3UW1JbJu7t8TR1RNbprO/QXdPD13dWWLt6ukpe0mwGiaOaqGhQTQqSzgNDdDU0ECDyOZT+ZaPVFRfNAoaGxpobChaJ9VtaihaR0p10zq5bTb0Jr7cdrauu3Wd4n00SjQ2Fu9DW+o2NTTQkOIr/g69n8JtsnWdVF5PrUonC7MdJDsBDK9fzxFBT7AloWSJpCclkyxxdaXyLXUKEk5hneXrNvHJa+/rd39vfNF0Wpsa6IkskXX3QE9qFfak5NYdaXpLndiy301dQXewtW6J+j0prp7c+j3Blrq9ZcOBRGGCySW33gSYTzANDeL5u4/jG6cctOPEvLoAAAmySURBVMNjcbIw24VJvb/Sd1yCO+2wWTtsW9VUkGBKJiy2JKKunq31uktMV7JO6fq905RMkFvWiaC7uzgxllgngpkTqjOKtZOFme2SGhpEA2IYNQRryvcKmplZWcMmWUg6StJDkjoknV3reMzMdiXDIllIagS+BRwN7AecImm/2kZlZrbrGBbJAjgE6IiI+RHRCVwJHF/jmMzMdhnDJVlMAxbk5hemsi0knSVpnqR5y5ZVNp6RmZlVZrgki7Ii4sKIaI+I9smTJ9c6HDOzncpwSRaLgBm5+empzMzMhsBwSRZ/A2ZL2lNSC3AyMKfGMZmZ7TIU1Rr9bAeTdAxwPtAIXBIRnx+g7jLg8UHsbhLw9CDWr5XhGjcM39iHa9zg2Guh3uPeIyJKXscfNsliKEmaFxE7dljUITBc44bhG/twjRscey0M17hh+FyGMjOzGnKyMDOzspwsSruw1gFsp+EaNwzf2Idr3ODYa2G4xu0+CzMzK88tCzMzK8vJwszMynKyyKn3YdAlzZB0s6T7Jd0n6X2pfIKkGyQ9kv6OT+WSdEH6PndLOrjG8TdKulPSdWl+T0lzU3w/SQ9cIqk1zXek5bNqHHebpKslPSjpAUmHDYdjLukD6d/JvZJ+LGlEvR5zSZdIWirp3lzZNh9jSaen+o9IOr2GsZ+X/r3cLennktpyy85JsT8k6bW58ro+/xAR/mT9No3AP4C9gBbg78B+tY6rKMapwMFpegzwMNmQ7ecCZ6fys4Evp+ljgF8DAg4F5tY4/g8CPwKuS/NXASen6e8C70zT/wF8N02fDPykxnFfBrw9TbcAbfV+zMkG2nwU2C13rM+o12MOvBI4GLg3V7ZNxxiYAMxPf8en6fE1iv1IoClNfzkX+37p3NIK7JnOOY3D4vxT6wDq5QMcBlyfmz8HOKfWcZWJ+Vrg/wEPAVNT2VTgoTT9PeCUXP0t9WoQ63TgRuDVwHXpf/Snc/9DbTn+wPXAYWm6KdVTjeIel066Kiqv62PO1pGaJ6RjeB3w2no+5sCsohPuNh1j4BTge7nygnpDGXvRsn8GrkjTBeeV3uM+HM4/vgy1Vdlh0OtJukxwEDAXmBIRi9OiJcCUNF1P3+l84KNAT5qfCKyMiK40n49tS9xp+apUvxb2BJYB/5suoV0kaRR1fswjYhHwP8ATwGKyY3g7w+OY99rWY1wXx76Et5G1hGD4xb6Fk8UwJGk08DPg/RGxOr8ssp8ldXU/tKRjgaURcXutY9kOTWSXGL4TEQcB68guiWxRp8d8PNkLwvYEdgdGAUfVNKhBqMdjXAlJHwO6gCtqHctgOVlsNSyGQZfUTJYoroiIa1LxU5KmpuVTgaWpvF6+08uA4yQ9RvaWw1cDXwfaJDWViG1L3Gn5OGD5UAacsxBYGBFz0/zVZMmj3o/5a4BHI2JZRGwGriH77zAcjnmvbT3G9XLsAZB0BnAscGpKdjBMYi/FyWKruh8GXZKAi4EHIuKruUVzgN47P04n68voLT8t3T1yKLAq16wfMhFxTkRMj4hZZMf1pog4FbgZeGM/cfd+nzem+jX5VRkRS4AFkvZNRUcA91Pnx5zs8tOhkkamfze9cdf9Mc/Z1mN8PXCkpPGpZXVkKhtyko4iu+x6XESszy2aA5yc7j7bE5gN3MYwOP/UvNOknj5kd1k8THZXwsdqHU+J+F5O1hS/G7grfY4hu7Z8I/AI8DtgQqov4Fvp+9wDtNfBdzicrXdD7UX2P0oH8FOgNZWPSPMdafleNY75QGBeOu6/ILvTpu6POfDfwIPAvcAPyO7AqctjDvyYrG9lM1lr7sztOcZk/QMd6fPWGsbeQdYH0fv/6Xdz9T+WYn8IODpXXtfnHw/3YWZmZfkylJmZleVkYWZmZTlZmJlZWU4WZmZWlpOFmZmV5WRhdU9SSPpKbv7Dkj69g7Z9qaQ3lq9Z8fbGSbo8jRz6jzQ9Lrf8vDQS7HlF650h6Ztp+gRJ++3AmA6UdExu/ri6HNXU6pqThQ0Hm4B/kTSp1oHk5Z6EzrsYmB8R+0TE3mSDEF6UW34WsH9EfGSATZ9ANjrpYGPpdSDZPfwARMSciPjStmzfzMnChoMusncXf6B4QXHLQNLa9PdwSX+QdK2k+ZK+JOlUSbdJukfS3rnNvEbSPEkPp3Gset+9cZ6kv6V3Evx7brt/lDSH7InofCz7AC8CPpsr/gzQLmnvtM5o4HZJJ5X6opJeChwHnCfprrTe3pJ+I+n2tO/n5r77dyXNBc6VdIikv6YBD/8iad/0NPBngJPS9k4qasXMknRT+o43SpqZ2/YFaTvze4+xpKmSbknbulfSKyr6L2jD3kC/RszqybeAuyWduw3rHAA8D1hB9m6DiyLiEGUvjXoP8P5UbxZwCLA3cHM66Z9GNozEiyW1An+W9NtU/2DgBRHxaNH+9gPuioju3oKI6JZ0F/D8iDhO0tqIOLC/gCPiLympXBcRVwNIuhF4R0Q8IuklwLfJxteCbAyhl6b9jAVeERFdkl4DfCEi3iDpk2RPOb87be+M3C6/AVwWEZdJehtwAVnLBrJhv18OPJds6ImrgTeTDaX9eUmNwMj+vovtXJwsbFiIiNWSLgfeC2yocLW/RRqXSdI/gN6T/T3Aq3L1roqIHuARSfPJTo5HAvvnWi3jyMbx6QRuK5EoqkLZCMMvBX6aDfEEZMN29PppLjmNAy6TNJtsWJjmCnZxGPAvafoHZC8c6vWLdFzul9Q7PPjfgEuUDWj5i4i4a1u/kw1Pvgxlw8n5ZOPujMqVdZH+HUtqIHvLWK9Nueme3HwPhT+Uise8CbLxh94TEQemz54R0Zts1vUT3/3AgSkOcjEdSNElq23QQPYOigNzn+flludj+Sxwc0S8AHg92XhPg5E/fgKIiFvI3gy3CLhU0mmD3IcNE04WNmxExAqy14KemSt+jKyfALJr/ZX8mi72JkkNqR9jL7IB3q4H3pl+QSPpOcpeejRQfB3AncDHc8UfB+5Iyyq1huy1uUT2vpJHJb0pxSFJB/Sz3ji2Dmt9RqntlfAXshFOAU4F/jhQYJL2AJ6KiO+TddzX9L3uNnScLGy4+QqQvyvq+8A/Sfo72SWV/n71D+QJspFWf03WN7CR7ER4P3CHpHvJXtFZyWXbM4HnpNtm/wE8h8LkVokrgY+kjuq9yU7iZ6bveB/ZS41KORf4oqQ7i2K9Gdivt4O7aJ33AG+VdDfwFuB9ZWI7HPh72sdJZO8lsV2AR501M7Oy3LIwM7OynCzMzKwsJwszMyvLycLMzMpysjAzs7KcLMzMrCwnCzMzK+v/A10TFBLpXOQNAAAAAElFTkSuQmCC\n",
            "text/plain": [
              "<Figure size 432x288 with 1 Axes>"
            ]
          },
          "metadata": {
            "tags": [],
            "needs_background": "light"
          }
        }
      ]
    },
    {
      "cell_type": "code",
      "metadata": {
        "colab": {
          "base_uri": "https://localhost:8080/"
        },
        "id": "duvdFoL2U9le",
        "outputId": "4b1d2709-41cd-40a2-e350-7fd81f2578e2"
      },
      "source": [
        "y_pred = NN.predict(X_train)\n",
        "print(\"Accuracy of trained model on train data:\", NN.accuracy(y_train,y_pred))\n",
        "y_pred = NN.predict(X_test)\n",
        "print(\"Accuracy of trained model on test data:\", NN.accuracy(y_test,y_pred))"
      ],
      "execution_count": 26,
      "outputs": [
        {
          "output_type": "stream",
          "text": [
            "Accuracy of trained model on train data: 96.42500000000001\n",
            "Accuracy of trained model on test data: 96.41499999999999\n"
          ],
          "name": "stdout"
        }
      ]
    },
    {
      "cell_type": "markdown",
      "metadata": {
        "id": "c1jL0zEqXv2v"
      },
      "source": [
        "# Neural Network (Scikit learn)"
      ]
    },
    {
      "cell_type": "code",
      "metadata": {
        "colab": {
          "base_uri": "https://localhost:8080/"
        },
        "id": "jvy-7EGSXvGm",
        "outputId": "e8211e7c-7ad1-4540-98c9-fd07be964509"
      },
      "source": [
        "from sklearn.neural_network import MLPClassifier\n",
        "from sklearn import preprocessing\n",
        "sk = MLPClassifier()  \n",
        "X_train_ = preprocessing.scale(X_train)\n",
        "y_train_ = y_train.ravel()\n",
        "X_test_ = preprocessing.scale(X_test)\n",
        "y_test_ = y_test.ravel()\n",
        "sk.fit(X_train_,y_train_)"
      ],
      "execution_count": 13,
      "outputs": [
        {
          "output_type": "execute_result",
          "data": {
            "text/plain": [
              "MLPClassifier(activation='relu', alpha=0.0001, batch_size='auto', beta_1=0.9,\n",
              "              beta_2=0.999, early_stopping=False, epsilon=1e-08,\n",
              "              hidden_layer_sizes=(100,), learning_rate='constant',\n",
              "              learning_rate_init=0.001, max_fun=15000, max_iter=200,\n",
              "              momentum=0.9, n_iter_no_change=10, nesterovs_momentum=True,\n",
              "              power_t=0.5, random_state=None, shuffle=True, solver='adam',\n",
              "              tol=0.0001, validation_fraction=0.1, verbose=False,\n",
              "              warm_start=False)"
            ]
          },
          "metadata": {
            "tags": []
          },
          "execution_count": 13
        }
      ]
    },
    {
      "cell_type": "code",
      "metadata": {
        "colab": {
          "base_uri": "https://localhost:8080/"
        },
        "id": "coLE7iuhmGGo",
        "outputId": "12f7a9e0-a8a3-4008-be5a-a8a09ac5a041"
      },
      "source": [
        "accuracy = sk.score(X_train_,y_train_)*100\n",
        "print(\"Accuracy of trained model on train data:\",accuracy)\n",
        "accuracy = sk.score(X_test_,y_train_)*100\n",
        "print(\"Accuracy of trained model on test data:\",accuracy)"
      ],
      "execution_count": 14,
      "outputs": [
        {
          "output_type": "stream",
          "text": [
            "Accuracy of trained model on train data: 100.0\n",
            "Accuracy of trained model on test data: 100.0\n"
          ],
          "name": "stdout"
        }
      ]
    },
    {
      "cell_type": "code",
      "metadata": {
        "id": "4K6DxxvmwjEp"
      },
      "source": [
        ""
      ],
      "execution_count": null,
      "outputs": []
    }
  ]
}

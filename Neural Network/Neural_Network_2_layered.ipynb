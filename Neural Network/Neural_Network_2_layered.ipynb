{
  "nbformat": 4,
  "nbformat_minor": 0,
  "metadata": {
    "colab": {
      "name": "Neural Network 2 layered.ipynb",
      "provenance": [],
      "collapsed_sections": []
    },
    "kernelspec": {
      "name": "python3",
      "display_name": "Python 3"
    },
    "language_info": {
      "name": "python"
    }
  },
  "cells": [
    {
      "cell_type": "code",
      "metadata": {
        "id": "VhZUZmme_YH5"
      },
      "source": [
        "import numpy as np\n",
        "import pandas as pd\n",
        "import matplotlib.pyplot as plt"
      ],
      "execution_count": 22,
      "outputs": []
    },
    {
      "cell_type": "code",
      "metadata": {
        "id": "9ZF2KdwzUdd_"
      },
      "source": [
        "df = pd.read_csv('sample_data/mnist_train_small.csv',header = None)\n",
        "X_train = np.array(df.iloc[:,1:])\n",
        "y_train = np.array(df.iloc[:,0:1])\n",
        "df1 = pd.read_csv('sample_data/mnist_test.csv',header = None)\n",
        "X_test = np.array(df.iloc[:,1:])\n",
        "y_test = np.array(df.iloc[:,0:1])"
      ],
      "execution_count": 23,
      "outputs": []
    },
    {
      "cell_type": "code",
      "metadata": {
        "id": "qn3NTYnN6blc"
      },
      "source": [
        "class NeuralNetwork:\n",
        "\n",
        "  def __init__(self, alpha=0.005, lam=0.01, num_iters=50 ,s1=16):\n",
        "    self.alpha = alpha\n",
        "    self.lam = lam\n",
        "    self.num_iters = num_iters\n",
        "    self.s1 = s1\n",
        "\n",
        "  def sigmoid(self,z):\n",
        "    return 1/(1 + np.exp(-1*z))\n",
        "\n",
        "  def scale(self, X):\n",
        "    m, n = X.shape\n",
        "    for i in range(n):\n",
        "      X[:,i] = (X[:,i] - np.mean(X[:,i])) / (np.std(X[:,i]) + 0.0000001)\n",
        "    return X\n",
        "\n",
        "  def add_bias(self,b):\n",
        "    return np.hstack((np.ones((len(b),1)),b))\n",
        "\n",
        "  def fit(self, X, y, n_cls):\n",
        "    \n",
        "    # Feature Scaling\n",
        "    X = self.scale(X)\n",
        "    X = self.add_bias(X)    # Adding bias colunmn\n",
        "    m, n = X.shape\n",
        "\n",
        "    # Coverting y matrix for One vs all classification\n",
        "    self.n_cls = n_cls\n",
        "    y_cls = np.zeros((m,self.n_cls))\n",
        "    for i in range(m):\n",
        "      y_cls[i,y[i]] = 1  #20000X10\n",
        "\n",
        "    # Initializing parameter vectors theta, delta\n",
        "    self.theta1 = np.random.rand(self.s1,n) #16X785\n",
        "    self.theta2 = np.random.rand(10,self.s1+1) #10X17\n",
        "    delta1 = np.zeros_like(self.theta1) #16X785\n",
        "    delta2 = np.zeros_like(self.theta2) #10X17\n",
        "\n",
        "    # Initializing some useful variables\n",
        "    # 'J.history' and 'iters' keeps track of cost with each iteration.\n",
        "    \n",
        "    self.J_hist = []\n",
        "    self.iters = []\n",
        "\n",
        "    for i in range(self.num_iters):\n",
        "      # Forward Propogation\n",
        "      a1 = X\n",
        "      z2 = a1@self.theta1.T #20000X785*785X16 = 20000X16\n",
        "      a2 = self.sigmoid(z2) #20000X16\n",
        "      a2 = self.add_bias(a2) #20000X17\n",
        "      z3 = a2@self.theta2.T #20000X17*17X10 = 20000X10\n",
        "      a3 = self.sigmoid(z3)\n",
        "\n",
        "      # Back Propogation\n",
        "      # Finding err(Error), delta\n",
        "      err3 = (a3 - y_cls)  #20000*10\n",
        "      err2 = (err3@self.theta2)*a2*(1-a2) #20000X10*10X17 .*20000X17  = 20000X17\n",
        "      delta2 += err3.T@a2  #10X20000*20000X17 = 10X17\n",
        "      delta1 += err2[:,1:].T@a1  #16X20000*20000X785 = 16X785\n",
        "      theta1_temp = self.theta1\n",
        "      theta1_temp[:,0] = 0\n",
        "      theta2_temp = self.theta2\n",
        "      theta2_temp[:,0] = 0\n",
        "      D2 = (1/m)*(delta2 + self.lam*theta2_temp)\n",
        "      D1 = (1/m)*(delta1 + self.lam*theta1_temp)\n",
        "\n",
        "      self.theta1 -= self.alpha*(D1)\n",
        "      self.theta2 -= self.alpha*(D2)\n",
        "\n",
        "      cost = (-1/m)*np.sum(y_cls*np.log(a3) + (1-y_cls)*np.log(1-a3)) + (self.lam/(2*m))*(np.sum(self.theta1[:,1:]**2) + np.sum(self.theta2[:,1:]**2))\n",
        "      #cost = (-1/m)*(np.sum(y*np.log(h) + (1-y)*np.log(1-h)))        + (self.lam/(2*m))*(np.sum(self.theta[:,1:]**2))\n",
        "\n",
        "      self.J_hist.append(cost)\n",
        "      self.iters.append(i)\n",
        "\n",
        "  def plot(self):\n",
        "    plt.plot(self.iters,self.J_hist)\n",
        "    plt.xlabel(\"Number Of Iterations\")\n",
        "    plt.ylabel(\"Cost Function\")\n",
        "    plt.title(\"Cost Function vs Iteration\")"
      ],
      "execution_count": 24,
      "outputs": []
    },
    {
      "cell_type": "code",
      "metadata": {
        "id": "fTulZS4fUoDu"
      },
      "source": [
        "a = NeuralNetwork()\n",
        "a.fit(X_train,y_train,10)"
      ],
      "execution_count": 25,
      "outputs": []
    },
    {
      "cell_type": "code",
      "metadata": {
        "colab": {
          "base_uri": "https://localhost:8080/",
          "height": 295
        },
        "id": "ytBBRpbDYp95",
        "outputId": "7cefa9ac-c953-4395-c913-263219f92491"
      },
      "source": [
        "a.plot()"
      ],
      "execution_count": 26,
      "outputs": [
        {
          "output_type": "display_data",
          "data": {
            "image/png": "[encoded data removed]",
            "text/plain": [
              "<Figure size 432x288 with 1 Axes>"
            ]
          },
          "metadata": {
            "tags": [],
            "needs_background": "light"
          }
        }
      ]
    },
    {
      "cell_type": "code",
      "metadata": {
        "id": "gqDYn1MR_U1A"
      },
      "source": [
        "\n"
      ],
      "execution_count": 26,
      "outputs": []
    },
    {
      "cell_type": "code",
      "metadata": {
        "id": "0FIOfSQpi4Qy"
      },
      "source": [
        ""
      ],
      "execution_count": null,
      "outputs": []
    }
  ]
}
